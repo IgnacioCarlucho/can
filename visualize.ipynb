{
 "cells": [
  {
   "cell_type": "code",
   "execution_count": 2,
   "metadata": {},
   "outputs": [],
   "source": [
    "import numpy as np\n",
    "import matplotlib.pyplot as plt\n",
    "%matplotlib inline"
   ]
  },
  {
   "cell_type": "code",
   "execution_count": 21,
   "metadata": {},
   "outputs": [],
   "source": [
    "CELL_W_SIZE = 64\n",
    "ncells = CELL_W_SIZE * CELL_W_SIZE\n",
    "\n",
    "dirs = np.array([[0.0, np.pi/2.0],\n",
    "                         [np.pi, 3*np.pi/2.0]])\n",
    "dirs = np.tile(dirs, (CELL_W_SIZE//2, CELL_W_SIZE//2))\n",
    "dirs = np.reshape(dirs.T, (-1))\n",
    "\n",
    "dir_vects = np.vstack([np.cos(dirs), np.sin(dirs)])\n",
    "\n",
    "x = np.arange(0, CELL_W_SIZE) - (CELL_W_SIZE-1) / 2.0\n",
    "\n",
    "X,Y = np.meshgrid(x,x)\n",
    "\n",
    "x = np.vstack([np.reshape(X.T, (-1)), np.reshape(Y.T, (-1))])\n",
    "# (2, 16)\n",
    "\n",
    "# Sets length of field shift in recurrent connections\n",
    "cell_spacing = Y[1,0] - Y[0,0]\n",
    "\n",
    "# Offset of center of inhibitory output\n",
    "ell = 2 * cell_spacing\n",
    "\n",
    "# Distance from (0,0) for A below\n",
    "cell_dists = np.linalg.norm(x.T, 2, axis=1)\n",
    "# (16,)\n",
    "\n",
    "a = 1                          # if >1, uses local excitatory connections\n",
    "lambda_ = 13                   # approx the periodicity of the pattern\n",
    "beta = 3 / (lambda_ * lambda_) # width of the excitatory region\n",
    "gamma = 1.1 * beta             # how much inhibitory region wider than excitatory \n",
    "#sparse_threshold = -1e-6 #\n",
    "\n",
    "W = []\n",
    "\n",
    "for i in range(ncells):\n",
    "    tmp = np.tile(np.reshape(x[:,i], (2,1)), (1, ncells))\n",
    "    # (2,16)\n",
    "    shifts = tmp - x - ell * dir_vects\n",
    "    # (2,16)\n",
    "\n",
    "    # TODO: 無駄が多い?\n",
    "    squared_shift_lengths = np.linalg.norm(shifts.T, 2, axis=1) ** 2\n",
    "    # (16,)\n",
    "    \n",
    "    tmp = a * np.exp(-gamma * squared_shift_lengths) - np.exp(-beta * squared_shift_lengths)\n",
    "    # (16,)\n",
    "    W.append(tmp)\n",
    "\n",
    "\n",
    "W = np.vstack(W)\n",
    "\n",
    "R  = np.sqrt(ncells)/2   # radius of main network, in cell-position units\n",
    "a0 = np.sqrt(ncells)/32  # envelope fall-off rate\n",
    "dr = np.sqrt(ncells)/2   # radius of tapered region, in cell-position units\n",
    "\n",
    "A = (((cell_dists) - R + dr) / dr)\n",
    "A = np.exp(-a0 * A * A)\n",
    "\n",
    "#non_tapered_inds = find(cellDists < (R-dr));\n",
    "#A(nonTaperedInds) = 1\n",
    "\n",
    "dt = 0.5 # time step, ms\n",
    "tau = 10.0\n",
    "\n",
    "s = np.random.uniform(low=0.0, high=1.0, size=[ncells])\n",
    "# (16,)\n",
    "\n",
    "for i in range(1000):\n",
    "    # Feedforward input\n",
    "    #B = A .* (1 + alpha * dirVects' * v)'\n",
    "    B = A\n",
    "    # (16,)\n",
    "    \n",
    "    # Total synaptic driving currents\n",
    "    s_inputs = np.dot(W, s.T).T + B\n",
    "    \n",
    "    # Synaptic drive only increases if input cells are over threshold 0\n",
    "    s_inputs = np.maximum(s_inputs, 0.0)\n",
    "    \n",
    "    # Synaptic drive decreases with time constant tau\n",
    "    s = s + dt * (s_inputs - s) / tau"
   ]
  },
  {
   "cell_type": "code",
   "execution_count": 22,
   "metadata": {},
   "outputs": [],
   "source": [
    "s = np.reshape(s, [CELL_W_SIZE, CELL_W_SIZE])"
   ]
  },
  {
   "cell_type": "code",
   "execution_count": 23,
   "metadata": {},
   "outputs": [
    {
     "data": {
      "text/plain": [
       "<matplotlib.image.AxesImage at 0x1117069b0>"
      ]
     },
     "execution_count": 23,
     "metadata": {},
     "output_type": "execute_result"
    },
    {
     "data": {
      "image/png": "[encoded data removed]",
      "text/plain": [
       "<Figure size 432x288 with 1 Axes>"
      ]
     },
     "metadata": {},
     "output_type": "display_data"
    }
   ],
   "source": [
    "plt.imshow(s,  cmap=\"jet\")"
   ]
  }
 ],
 "metadata": {
  "kernelspec": {
   "display_name": "Python 3",
   "language": "python",
   "name": "python3"
  },
  "language_info": {
   "codemirror_mode": {
    "name": "ipython",
    "version": 3
   },
   "file_extension": ".py",
   "mimetype": "text/x-python",
   "name": "python",
   "nbconvert_exporter": "python",
   "pygments_lexer": "ipython3",
   "version": "3.6.5"
  }
 },
 "nbformat": 4,
 "nbformat_minor": 2
}
